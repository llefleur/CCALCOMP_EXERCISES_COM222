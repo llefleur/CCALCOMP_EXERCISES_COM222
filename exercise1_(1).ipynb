{
  "cells": [
    {
      "cell_type": "markdown",
      "metadata": {
        "id": "view-in-github"
      },
      "source": [
        "<a href=\"https://colab.research.google.com/github/robitussin/CCALCOMP_EXERCISES/blob/main/exercise1.ipynb\" target=\"_parent\"><img src=\"https://colab.research.google.com/assets/colab-badge.svg\" alt=\"Open In Colab\"/></a>"
      ]
    },
    {
      "cell_type": "markdown",
      "metadata": {
        "id": "3-prKGbfwFRd"
      },
      "source": [
        "# Exercise 1"
      ]
    },
    {
      "cell_type": "markdown",
      "metadata": {
        "id": "kBW-_z9HwFRf"
      },
      "source": [
        "Please follow the instructions in each number. Do not remove or modify the pre-defined code!"
      ]
    },
    {
      "cell_type": "code",
      "execution_count": null,
      "metadata": {
        "id": "ABAdD_ngwFRg"
      },
      "outputs": [],
      "source": [
        "# Add a vertex to the set of vertices and the graph\n",
        "def add_vertex(v):\n",
        "  global graph\n",
        "  global vertices_no\n",
        "  global vertices\n",
        "  if v in vertices:\n",
        "    print(\"Vertex \", v, \" already exists\")\n",
        "  else:\n",
        "    vertices_no = vertices_no + 1\n",
        "    vertices.append(v)\n",
        "    if vertices_no > 1:\n",
        "        for vertex in graph:\n",
        "            vertex.append(0)\n",
        "    temp = []\n",
        "    for i in range(vertices_no):\n",
        "        temp.append(0)\n",
        "    graph.append(temp)\n",
        "\n",
        "# Add an edge between vertex v1 and v2 with edge weight e\n",
        "def add_edge(v1, v2, e):\n",
        "    global graph\n",
        "    global vertices_no\n",
        "    global vertices\n",
        "    # Check if vertex v1 is a valid vertex\n",
        "    if v1 not in vertices:\n",
        "        print(\"Vertex \", v1, \" does not exist.\")\n",
        "    # Check if vertex v1 is a valid vertex\n",
        "    elif v2 not in vertices:\n",
        "        print(\"Vertex \", v2, \" does not exist.\")\n",
        "    # Since this code is not restricted to a directed or\n",
        "    # an undirected graph, an edge between v1 v2 does not\n",
        "    # imply that an edge exists between v2 and v1\n",
        "    else:\n",
        "        index1 = vertices.index(v1)\n",
        "        index2 = vertices.index(v2)\n",
        "        graph[index1][index2] = e\n",
        "\n",
        "# Print the graph\n",
        "def print_graph():\n",
        "  global graph\n",
        "  global vertices_no\n",
        "  for i in range(vertices_no):\n",
        "    for j in range(vertices_no):\n",
        "      if graph[i][j] != 0:\n",
        "        print(vertices[i], \" -> \", vertices[j],\n",
        "              \" edge weight: \", graph[i][j])"
      ]
    },
    {
      "cell_type": "code",
      "execution_count": null,
      "metadata": {
        "id": "912w9tR0wFRh"
      },
      "outputs": [],
      "source": [
        "# stores the vertices in the graph\n",
        "vertices = []\n",
        "# stores the number of vertices in the graph\n",
        "vertices_no = 0\n",
        "graph = []"
      ]
    },
    {
      "cell_type": "markdown",
      "metadata": {
        "id": "lzkib3wYwFRh"
      },
      "source": [
        "<img src=\"https://github.com/robitussin/CCALCOMP_EXERCISES/blob/main/images/directed%20graph2.png?raw=true\"/>"
      ]
    },
    {
      "cell_type": "markdown",
      "metadata": {
        "id": "Qfh-2gbPwFRi"
      },
      "source": [
        "1. Print the edges and vertices of the graph in set representation. (`25 points`)"
      ]
    },
    {
      "cell_type": "code",
      "execution_count": null,
      "metadata": {
        "id": "FSymqoxmwFRi",
        "colab": {
          "base_uri": "https://localhost:8080/"
        },
        "outputId": "0471cb29-ed46-4ce9-827d-432712a64ff3"
      },
      "outputs": [
        {
          "output_type": "stream",
          "name": "stdout",
          "text": [
            "Vertices: {'e', 'b', 'c', 'd', 'a'}\n",
            "Edges: {('a', 'd'): 60, ('a', 'c'): 12, ('b', 'a'): 10, ('c', 'b'): 20, ('c', 'd'): 32, ('e', 'a'): 7}\n"
          ]
        }
      ],
      "source": [
        "# put your answer here\n",
        "\n",
        "# Define the vertices\n",
        "vertices = {'a', 'b', 'c', 'd', 'e'}\n",
        "\n",
        "# Define the edges\n",
        "edges = {('a', 'd'): 60, ('a', 'c'): 12, ('b', 'a'): 10, ('c', 'b'): 20, ('c', 'd'): 32, ('e', 'a'): 7}\n",
        "\n",
        "print(\"Vertices:\", vertices)\n",
        "print(\"Edges:\", edges)\n"
      ]
    },
    {
      "cell_type": "markdown",
      "metadata": {
        "id": "NHt6QEFzwFRi"
      },
      "source": [
        "2. Implement the weighted graph in python code. Use the print_graph() function. (`25 points`)"
      ]
    },
    {
      "cell_type": "code",
      "execution_count": null,
      "metadata": {
        "id": "fcYP9VF9wFRj",
        "colab": {
          "base_uri": "https://localhost:8080/"
        },
        "outputId": "1fc34796-a9d3-4f0a-97dd-7aff733c743d"
      },
      "outputs": [
        {
          "output_type": "stream",
          "name": "stdout",
          "text": [
            "Edge: a -> d, Weight: 60\n",
            "Edge: a -> c, Weight: 12\n",
            "Edge: b -> a, Weight: 10\n",
            "Edge: c -> b, Weight: 20\n",
            "Edge: c -> d, Weight: 32\n",
            "Edge: e -> a, Weight: 7\n"
          ]
        }
      ],
      "source": [
        "# put your answer here\n",
        "\n",
        "# Define the graph\n",
        "graph = {\n",
        "    'a': {'d': 60, 'c': 12},\n",
        "    'b': {'a': 10},\n",
        "    'c': {'b': 20, 'd': 32},\n",
        "    'd': {},\n",
        "    'e': {'a': 7}\n",
        "}\n",
        "\n",
        "# Print the graph\n",
        "for vertex, edges in graph.items():\n",
        "    for edge, weight in edges.items():\n",
        "        print(f\"Edge: {vertex} -> {edge}, Weight: {weight}\")\n"
      ]
    },
    {
      "cell_type": "markdown",
      "metadata": {
        "id": "kD-6afNTwFRj"
      },
      "source": [
        "3. You decided to go on a trip around the philippines. Being a computer scientist, you wanted to find the optimal route that would cost the least amount of money to travel all four cities. Find the route and print the total cost of the most optimal route. (`50 points`)"
      ]
    },
    {
      "cell_type": "markdown",
      "metadata": {
        "id": "cBHIHSIewFRj"
      },
      "source": [
        "<img src=\"https://github.com/robitussin/CCALCOMP_EXERCISES/blob/main/images/trip.png?raw=true\" width=\"500\" height=\"600\"/>"
      ]
    },
    {
      "cell_type": "code",
      "execution_count": null,
      "metadata": {
        "id": "yNwmvIXnwFRj",
        "colab": {
          "base_uri": "https://localhost:8080/"
        },
        "outputId": "1d66914f-cc5a-4e5a-916a-3c490958593e"
      },
      "outputs": [
        {
          "output_type": "stream",
          "name": "stdout",
          "text": [
            "Optimal route: manila -> tacloban -> puerto princesa -> davao -> manila\n",
            "Total cost: 11500 PHP\n"
          ]
        }
      ],
      "source": [
        "# put your answer here\n",
        "from itertools import permutations\n",
        "\n",
        "# Define the graph\n",
        "graph = {\n",
        "    'manila': {'tacloban': 1000, 'davao': 5000, 'puerto princesa': 8000},\n",
        "    'tacloban': {'manila': 1000, 'davao': 2000, 'puerto princesa': 1500},\n",
        "    'davao': {'manila': 5000, 'tacloban': 2000, 'puerto princesa': 4000},\n",
        "    'puerto princesa': {'manila': 8000, 'tacloban': 1500, 'davao': 4000}\n",
        "}\n",
        "\n",
        "# calculate the cost of a given route\n",
        "def calculate_cost(route):\n",
        "    cost = 0\n",
        "    for i in range(len(route) - 1):\n",
        "        cost += graph[route[i]][route[i+1]]\n",
        "    cost += graph[route[-1]][route[0]]  # Cost to return to the starting city\n",
        "    return cost\n",
        "\n",
        "# permutations\n",
        "cities = list(graph.keys())\n",
        "routes = permutations(cities)\n",
        "\n",
        "# route with minimum cost\n",
        "min_route = None\n",
        "min_cost = float('inf')\n",
        "for route in routes:\n",
        "    cost = calculate_cost(route)\n",
        "    if cost < min_cost:\n",
        "        min_cost = cost\n",
        "        min_route = route\n",
        "\n",
        "# Print\n",
        "print(\"Optimal route:\", \" -> \".join(min_route), \"->\", min_route[0])\n",
        "print(\"Total cost:\", min_cost, \"PHP\")\n"
      ]
    }
  ],
  "metadata": {
    "kernelspec": {
      "display_name": "base",
      "language": "python",
      "name": "python3"
    },
    "language_info": {
      "codemirror_mode": {
        "name": "ipython",
        "version": 3
      },
      "file_extension": ".py",
      "mimetype": "text/x-python",
      "name": "python",
      "nbconvert_exporter": "python",
      "pygments_lexer": "ipython3",
      "version": "3.9.6"
    },
    "colab": {
      "provenance": []
    }
  },
  "nbformat": 4,
  "nbformat_minor": 0
}